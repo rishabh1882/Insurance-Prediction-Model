{
 "cells": [
  {
   "cell_type": "markdown",
   "id": "f249c013",
   "metadata": {},
   "source": [
    "#### Importing Libraries"
   ]
  },
  {
   "cell_type": "code",
   "execution_count": 1,
   "id": "16402560",
   "metadata": {},
   "outputs": [],
   "source": [
    "import pandas as pd\n",
    "import numpy as np\n",
    "import matplotlib.pyplot as plt\n",
    "import seaborn as sns\n",
    "from sklearn.model_selection import train_test_split\n",
    "from sklearn.metrics import accuracy_score, precision_score, confusion_matrix, classification_report"
   ]
  },
  {
   "cell_type": "markdown",
   "id": "d00a411c",
   "metadata": {},
   "source": [
    "#### Reading the data file"
   ]
  },
  {
   "cell_type": "code",
   "execution_count": 2,
   "id": "ba90713d",
   "metadata": {},
   "outputs": [],
   "source": [
    "def train_data():\n",
    "    train_path=\"D:/DATA SCIENCE/Asignments/Python/Health/Health Insurance Prediction/train.csv\"\n",
    "    train=pd.read_csv(train_path)\n",
    "    return train"
   ]
  },
  {
   "cell_type": "code",
   "execution_count": 3,
   "id": "212d6c28",
   "metadata": {},
   "outputs": [],
   "source": [
    "def test_data():\n",
    "    test_path=\"D:/DATA SCIENCE/Asignments/Python/Health/Health Insurance Prediction/test.csv\"\n",
    "    test=pd.read_csv(test_path)\n",
    "    return test"
   ]
  },
  {
   "cell_type": "code",
   "execution_count": 4,
   "id": "8403a46a",
   "metadata": {},
   "outputs": [],
   "source": [
    "#Calling the function of data\n",
    "train=train_data()\n",
    "test=test_data()"
   ]
  },
  {
   "cell_type": "code",
   "execution_count": 5,
   "id": "d4b7de3e",
   "metadata": {},
   "outputs": [
    {
     "data": {
      "text/html": [
       "<div>\n",
       "<style scoped>\n",
       "    .dataframe tbody tr th:only-of-type {\n",
       "        vertical-align: middle;\n",
       "    }\n",
       "\n",
       "    .dataframe tbody tr th {\n",
       "        vertical-align: top;\n",
       "    }\n",
       "\n",
       "    .dataframe thead th {\n",
       "        text-align: right;\n",
       "    }\n",
       "</style>\n",
       "<table border=\"1\" class=\"dataframe\">\n",
       "  <thead>\n",
       "    <tr style=\"text-align: right;\">\n",
       "      <th></th>\n",
       "      <th>id</th>\n",
       "      <th>Gender</th>\n",
       "      <th>Age</th>\n",
       "      <th>Driving_License</th>\n",
       "      <th>Region_Code</th>\n",
       "      <th>Previously_Insured</th>\n",
       "      <th>Vehicle_Age</th>\n",
       "      <th>Vehicle_Damage</th>\n",
       "      <th>Annual_Premium</th>\n",
       "      <th>Policy_Sales_Channel</th>\n",
       "      <th>Vintage</th>\n",
       "      <th>Response</th>\n",
       "    </tr>\n",
       "  </thead>\n",
       "  <tbody>\n",
       "    <tr>\n",
       "      <th>0</th>\n",
       "      <td>1</td>\n",
       "      <td>Male</td>\n",
       "      <td>44</td>\n",
       "      <td>1</td>\n",
       "      <td>28.0</td>\n",
       "      <td>0</td>\n",
       "      <td>&gt; 2 Years</td>\n",
       "      <td>Yes</td>\n",
       "      <td>40454.0</td>\n",
       "      <td>26.0</td>\n",
       "      <td>217</td>\n",
       "      <td>1</td>\n",
       "    </tr>\n",
       "    <tr>\n",
       "      <th>1</th>\n",
       "      <td>2</td>\n",
       "      <td>Male</td>\n",
       "      <td>76</td>\n",
       "      <td>1</td>\n",
       "      <td>3.0</td>\n",
       "      <td>0</td>\n",
       "      <td>1-2 Year</td>\n",
       "      <td>No</td>\n",
       "      <td>33536.0</td>\n",
       "      <td>26.0</td>\n",
       "      <td>183</td>\n",
       "      <td>0</td>\n",
       "    </tr>\n",
       "    <tr>\n",
       "      <th>2</th>\n",
       "      <td>3</td>\n",
       "      <td>Male</td>\n",
       "      <td>47</td>\n",
       "      <td>1</td>\n",
       "      <td>28.0</td>\n",
       "      <td>0</td>\n",
       "      <td>&gt; 2 Years</td>\n",
       "      <td>Yes</td>\n",
       "      <td>38294.0</td>\n",
       "      <td>26.0</td>\n",
       "      <td>27</td>\n",
       "      <td>1</td>\n",
       "    </tr>\n",
       "    <tr>\n",
       "      <th>3</th>\n",
       "      <td>4</td>\n",
       "      <td>Male</td>\n",
       "      <td>21</td>\n",
       "      <td>1</td>\n",
       "      <td>11.0</td>\n",
       "      <td>1</td>\n",
       "      <td>&lt; 1 Year</td>\n",
       "      <td>No</td>\n",
       "      <td>28619.0</td>\n",
       "      <td>152.0</td>\n",
       "      <td>203</td>\n",
       "      <td>0</td>\n",
       "    </tr>\n",
       "    <tr>\n",
       "      <th>4</th>\n",
       "      <td>5</td>\n",
       "      <td>Female</td>\n",
       "      <td>29</td>\n",
       "      <td>1</td>\n",
       "      <td>41.0</td>\n",
       "      <td>1</td>\n",
       "      <td>&lt; 1 Year</td>\n",
       "      <td>No</td>\n",
       "      <td>27496.0</td>\n",
       "      <td>152.0</td>\n",
       "      <td>39</td>\n",
       "      <td>0</td>\n",
       "    </tr>\n",
       "  </tbody>\n",
       "</table>\n",
       "</div>"
      ],
      "text/plain": [
       "   id  Gender  Age  Driving_License  Region_Code  Previously_Insured  \\\n",
       "0   1    Male   44                1         28.0                   0   \n",
       "1   2    Male   76                1          3.0                   0   \n",
       "2   3    Male   47                1         28.0                   0   \n",
       "3   4    Male   21                1         11.0                   1   \n",
       "4   5  Female   29                1         41.0                   1   \n",
       "\n",
       "  Vehicle_Age Vehicle_Damage  Annual_Premium  Policy_Sales_Channel  Vintage  \\\n",
       "0   > 2 Years            Yes         40454.0                  26.0      217   \n",
       "1    1-2 Year             No         33536.0                  26.0      183   \n",
       "2   > 2 Years            Yes         38294.0                  26.0       27   \n",
       "3    < 1 Year             No         28619.0                 152.0      203   \n",
       "4    < 1 Year             No         27496.0                 152.0       39   \n",
       "\n",
       "   Response  \n",
       "0         1  \n",
       "1         0  \n",
       "2         1  \n",
       "3         0  \n",
       "4         0  "
      ]
     },
     "execution_count": 5,
     "metadata": {},
     "output_type": "execute_result"
    }
   ],
   "source": [
    "train.head()"
   ]
  },
  {
   "cell_type": "code",
   "execution_count": 6,
   "id": "7f9fb71f",
   "metadata": {},
   "outputs": [
    {
     "data": {
      "text/html": [
       "<div>\n",
       "<style scoped>\n",
       "    .dataframe tbody tr th:only-of-type {\n",
       "        vertical-align: middle;\n",
       "    }\n",
       "\n",
       "    .dataframe tbody tr th {\n",
       "        vertical-align: top;\n",
       "    }\n",
       "\n",
       "    .dataframe thead th {\n",
       "        text-align: right;\n",
       "    }\n",
       "</style>\n",
       "<table border=\"1\" class=\"dataframe\">\n",
       "  <thead>\n",
       "    <tr style=\"text-align: right;\">\n",
       "      <th></th>\n",
       "      <th>id</th>\n",
       "      <th>Gender</th>\n",
       "      <th>Age</th>\n",
       "      <th>Driving_License</th>\n",
       "      <th>Region_Code</th>\n",
       "      <th>Previously_Insured</th>\n",
       "      <th>Vehicle_Age</th>\n",
       "      <th>Vehicle_Damage</th>\n",
       "      <th>Annual_Premium</th>\n",
       "      <th>Policy_Sales_Channel</th>\n",
       "      <th>Vintage</th>\n",
       "    </tr>\n",
       "  </thead>\n",
       "  <tbody>\n",
       "    <tr>\n",
       "      <th>0</th>\n",
       "      <td>381110</td>\n",
       "      <td>Male</td>\n",
       "      <td>25</td>\n",
       "      <td>1</td>\n",
       "      <td>11.0</td>\n",
       "      <td>1</td>\n",
       "      <td>&lt; 1 Year</td>\n",
       "      <td>No</td>\n",
       "      <td>35786.0</td>\n",
       "      <td>152.0</td>\n",
       "      <td>53</td>\n",
       "    </tr>\n",
       "    <tr>\n",
       "      <th>1</th>\n",
       "      <td>381111</td>\n",
       "      <td>Male</td>\n",
       "      <td>40</td>\n",
       "      <td>1</td>\n",
       "      <td>28.0</td>\n",
       "      <td>0</td>\n",
       "      <td>1-2 Year</td>\n",
       "      <td>Yes</td>\n",
       "      <td>33762.0</td>\n",
       "      <td>7.0</td>\n",
       "      <td>111</td>\n",
       "    </tr>\n",
       "    <tr>\n",
       "      <th>2</th>\n",
       "      <td>381112</td>\n",
       "      <td>Male</td>\n",
       "      <td>47</td>\n",
       "      <td>1</td>\n",
       "      <td>28.0</td>\n",
       "      <td>0</td>\n",
       "      <td>1-2 Year</td>\n",
       "      <td>Yes</td>\n",
       "      <td>40050.0</td>\n",
       "      <td>124.0</td>\n",
       "      <td>199</td>\n",
       "    </tr>\n",
       "    <tr>\n",
       "      <th>3</th>\n",
       "      <td>381113</td>\n",
       "      <td>Male</td>\n",
       "      <td>24</td>\n",
       "      <td>1</td>\n",
       "      <td>27.0</td>\n",
       "      <td>1</td>\n",
       "      <td>&lt; 1 Year</td>\n",
       "      <td>Yes</td>\n",
       "      <td>37356.0</td>\n",
       "      <td>152.0</td>\n",
       "      <td>187</td>\n",
       "    </tr>\n",
       "    <tr>\n",
       "      <th>4</th>\n",
       "      <td>381114</td>\n",
       "      <td>Male</td>\n",
       "      <td>27</td>\n",
       "      <td>1</td>\n",
       "      <td>28.0</td>\n",
       "      <td>1</td>\n",
       "      <td>&lt; 1 Year</td>\n",
       "      <td>No</td>\n",
       "      <td>59097.0</td>\n",
       "      <td>152.0</td>\n",
       "      <td>297</td>\n",
       "    </tr>\n",
       "  </tbody>\n",
       "</table>\n",
       "</div>"
      ],
      "text/plain": [
       "       id Gender  Age  Driving_License  Region_Code  Previously_Insured  \\\n",
       "0  381110   Male   25                1         11.0                   1   \n",
       "1  381111   Male   40                1         28.0                   0   \n",
       "2  381112   Male   47                1         28.0                   0   \n",
       "3  381113   Male   24                1         27.0                   1   \n",
       "4  381114   Male   27                1         28.0                   1   \n",
       "\n",
       "  Vehicle_Age Vehicle_Damage  Annual_Premium  Policy_Sales_Channel  Vintage  \n",
       "0    < 1 Year             No         35786.0                 152.0       53  \n",
       "1    1-2 Year            Yes         33762.0                   7.0      111  \n",
       "2    1-2 Year            Yes         40050.0                 124.0      199  \n",
       "3    < 1 Year            Yes         37356.0                 152.0      187  \n",
       "4    < 1 Year             No         59097.0                 152.0      297  "
      ]
     },
     "execution_count": 6,
     "metadata": {},
     "output_type": "execute_result"
    }
   ],
   "source": [
    "test.head()"
   ]
  },
  {
   "cell_type": "markdown",
   "id": "8da3ef93",
   "metadata": {},
   "source": [
    "### EDA (Exploratory Data Analysis)"
   ]
  },
  {
   "cell_type": "code",
   "execution_count": 7,
   "id": "ec0ff528",
   "metadata": {},
   "outputs": [
    {
     "name": "stdout",
     "output_type": "stream",
     "text": [
      "TRAIN_DATA\n",
      "<class 'pandas.core.frame.DataFrame'>\n",
      "RangeIndex: 381109 entries, 0 to 381108\n",
      "Data columns (total 12 columns):\n",
      " #   Column                Non-Null Count   Dtype  \n",
      "---  ------                --------------   -----  \n",
      " 0   id                    381109 non-null  int64  \n",
      " 1   Gender                381109 non-null  object \n",
      " 2   Age                   381109 non-null  int64  \n",
      " 3   Driving_License       381109 non-null  int64  \n",
      " 4   Region_Code           381109 non-null  float64\n",
      " 5   Previously_Insured    381109 non-null  int64  \n",
      " 6   Vehicle_Age           381109 non-null  object \n",
      " 7   Vehicle_Damage        381109 non-null  object \n",
      " 8   Annual_Premium        381109 non-null  float64\n",
      " 9   Policy_Sales_Channel  381109 non-null  float64\n",
      " 10  Vintage               381109 non-null  int64  \n",
      " 11  Response              381109 non-null  int64  \n",
      "dtypes: float64(3), int64(6), object(3)\n",
      "memory usage: 34.9+ MB\n",
      "None\n",
      "id                      0\n",
      "Gender                  0\n",
      "Age                     0\n",
      "Driving_License         0\n",
      "Region_Code             0\n",
      "Previously_Insured      0\n",
      "Vehicle_Age             0\n",
      "Vehicle_Damage          0\n",
      "Annual_Premium          0\n",
      "Policy_Sales_Channel    0\n",
      "Vintage                 0\n",
      "Response                0\n",
      "dtype: int64\n",
      "===================================================\n",
      "TEST_DATA\n",
      "<class 'pandas.core.frame.DataFrame'>\n",
      "RangeIndex: 127037 entries, 0 to 127036\n",
      "Data columns (total 11 columns):\n",
      " #   Column                Non-Null Count   Dtype  \n",
      "---  ------                --------------   -----  \n",
      " 0   id                    127037 non-null  int64  \n",
      " 1   Gender                127037 non-null  object \n",
      " 2   Age                   127037 non-null  int64  \n",
      " 3   Driving_License       127037 non-null  int64  \n",
      " 4   Region_Code           127037 non-null  float64\n",
      " 5   Previously_Insured    127037 non-null  int64  \n",
      " 6   Vehicle_Age           127037 non-null  object \n",
      " 7   Vehicle_Damage        127037 non-null  object \n",
      " 8   Annual_Premium        127037 non-null  float64\n",
      " 9   Policy_Sales_Channel  127037 non-null  float64\n",
      " 10  Vintage               127037 non-null  int64  \n",
      "dtypes: float64(3), int64(5), object(3)\n",
      "memory usage: 10.7+ MB\n",
      "None\n",
      "id                      0\n",
      "Gender                  0\n",
      "Age                     0\n",
      "Driving_License         0\n",
      "Region_Code             0\n",
      "Previously_Insured      0\n",
      "Vehicle_Age             0\n",
      "Vehicle_Damage          0\n",
      "Annual_Premium          0\n",
      "Policy_Sales_Channel    0\n",
      "Vintage                 0\n",
      "dtype: int64\n"
     ]
    }
   ],
   "source": [
    "# Let's check the data types and more information about our train and test data separately\n",
    "print(\"TRAIN_DATA\")\n",
    "print(train.info())\n",
    "print(train.isnull().sum())\n",
    "print(\"===================================================\")\n",
    "print(\"TEST_DATA\")\n",
    "print(test.info())\n",
    "print(test.isnull().sum())"
   ]
  },
  {
   "cell_type": "markdown",
   "id": "15a9537f",
   "metadata": {},
   "source": [
    "#### Inference: There is no Null value in the data.\n",
    "But, 3 columns of our data(Gender, Vehicle_Age, and Vehicle_Damage) are not in numeric form. \n",
    "So, we have to perform encoding here on these 3 columns"
   ]
  },
  {
   "cell_type": "code",
   "execution_count": 8,
   "id": "5ed8f4be",
   "metadata": {},
   "outputs": [
    {
     "name": "stdout",
     "output_type": "stream",
     "text": [
      "Gender\n",
      "Male      206089\n",
      "Female    175020\n",
      "Name: count, dtype: int64\n",
      "Vehicle_Age\n",
      "1-2 Year     200316\n",
      "< 1 Year     164786\n",
      "> 2 Years     16007\n",
      "Name: count, dtype: int64\n",
      "Vehicle_Damage\n",
      "Yes    192413\n",
      "No     188696\n",
      "Name: count, dtype: int64\n"
     ]
    }
   ],
   "source": [
    "# First check the unique values\n",
    "print(train['Gender'].value_counts())\n",
    "print(train['Vehicle_Age'].value_counts())\n",
    "print(train['Vehicle_Damage'].value_counts())"
   ]
  },
  {
   "cell_type": "markdown",
   "id": "ca9b6094",
   "metadata": {},
   "source": [
    "### Encoding"
   ]
  },
  {
   "cell_type": "markdown",
   "id": "39ed91ac",
   "metadata": {},
   "source": [
    "#### Replaced values :-\n",
    "Vehicle Age -\n",
    "\"<1 Year\" = 0\n",
    "\"1-2 Year\" = 1\n",
    "\">2 Year\" = 2\n",
    "\n",
    "Gender -\n",
    "\"Female\" = 0\n",
    "\"Male\" = 1\n",
    "\n",
    "Vehicle Damage ->\n",
    "\n",
    "\"No\" = 0\n",
    "\"Yes\" = 1"
   ]
  },
  {
   "cell_type": "code",
   "execution_count": 9,
   "id": "5f1a20f2",
   "metadata": {},
   "outputs": [],
   "source": [
    "train['Vehicle_Age']=train['Vehicle_Age'].replace({'< 1 Year':0,'1-2 Year':1,'> 2 Years':2})\n",
    "train['Gender']=train['Gender'].replace({'Male':1,'Female':0})\n",
    "train['Vehicle_Damage']=train['Vehicle_Damage'].replace({'Yes':1,'No':0})\n",
    "\n",
    "test['Vehicle_Age']=test['Vehicle_Age'].replace({'< 1 Year':0,'1-2 Year':1,'> 2 Years':2})\n",
    "test['Gender']=test['Gender'].replace({'Male':1,'Female':0})\n",
    "test['Vehicle_Damage']=test['Vehicle_Damage'].replace({'Yes':1,'No':0})"
   ]
  },
  {
   "cell_type": "code",
   "execution_count": 10,
   "id": "575e5eac",
   "metadata": {},
   "outputs": [
    {
     "data": {
      "text/html": [
       "<div>\n",
       "<style scoped>\n",
       "    .dataframe tbody tr th:only-of-type {\n",
       "        vertical-align: middle;\n",
       "    }\n",
       "\n",
       "    .dataframe tbody tr th {\n",
       "        vertical-align: top;\n",
       "    }\n",
       "\n",
       "    .dataframe thead th {\n",
       "        text-align: right;\n",
       "    }\n",
       "</style>\n",
       "<table border=\"1\" class=\"dataframe\">\n",
       "  <thead>\n",
       "    <tr style=\"text-align: right;\">\n",
       "      <th></th>\n",
       "      <th>id</th>\n",
       "      <th>Gender</th>\n",
       "      <th>Age</th>\n",
       "      <th>Driving_License</th>\n",
       "      <th>Region_Code</th>\n",
       "      <th>Previously_Insured</th>\n",
       "      <th>Vehicle_Age</th>\n",
       "      <th>Vehicle_Damage</th>\n",
       "      <th>Annual_Premium</th>\n",
       "      <th>Policy_Sales_Channel</th>\n",
       "      <th>Vintage</th>\n",
       "      <th>Response</th>\n",
       "    </tr>\n",
       "  </thead>\n",
       "  <tbody>\n",
       "    <tr>\n",
       "      <th>0</th>\n",
       "      <td>1</td>\n",
       "      <td>1</td>\n",
       "      <td>44</td>\n",
       "      <td>1</td>\n",
       "      <td>28.0</td>\n",
       "      <td>0</td>\n",
       "      <td>2</td>\n",
       "      <td>1</td>\n",
       "      <td>40454.0</td>\n",
       "      <td>26.0</td>\n",
       "      <td>217</td>\n",
       "      <td>1</td>\n",
       "    </tr>\n",
       "    <tr>\n",
       "      <th>1</th>\n",
       "      <td>2</td>\n",
       "      <td>1</td>\n",
       "      <td>76</td>\n",
       "      <td>1</td>\n",
       "      <td>3.0</td>\n",
       "      <td>0</td>\n",
       "      <td>1</td>\n",
       "      <td>0</td>\n",
       "      <td>33536.0</td>\n",
       "      <td>26.0</td>\n",
       "      <td>183</td>\n",
       "      <td>0</td>\n",
       "    </tr>\n",
       "    <tr>\n",
       "      <th>2</th>\n",
       "      <td>3</td>\n",
       "      <td>1</td>\n",
       "      <td>47</td>\n",
       "      <td>1</td>\n",
       "      <td>28.0</td>\n",
       "      <td>0</td>\n",
       "      <td>2</td>\n",
       "      <td>1</td>\n",
       "      <td>38294.0</td>\n",
       "      <td>26.0</td>\n",
       "      <td>27</td>\n",
       "      <td>1</td>\n",
       "    </tr>\n",
       "    <tr>\n",
       "      <th>3</th>\n",
       "      <td>4</td>\n",
       "      <td>1</td>\n",
       "      <td>21</td>\n",
       "      <td>1</td>\n",
       "      <td>11.0</td>\n",
       "      <td>1</td>\n",
       "      <td>0</td>\n",
       "      <td>0</td>\n",
       "      <td>28619.0</td>\n",
       "      <td>152.0</td>\n",
       "      <td>203</td>\n",
       "      <td>0</td>\n",
       "    </tr>\n",
       "    <tr>\n",
       "      <th>4</th>\n",
       "      <td>5</td>\n",
       "      <td>0</td>\n",
       "      <td>29</td>\n",
       "      <td>1</td>\n",
       "      <td>41.0</td>\n",
       "      <td>1</td>\n",
       "      <td>0</td>\n",
       "      <td>0</td>\n",
       "      <td>27496.0</td>\n",
       "      <td>152.0</td>\n",
       "      <td>39</td>\n",
       "      <td>0</td>\n",
       "    </tr>\n",
       "  </tbody>\n",
       "</table>\n",
       "</div>"
      ],
      "text/plain": [
       "   id  Gender  Age  Driving_License  Region_Code  Previously_Insured  \\\n",
       "0   1       1   44                1         28.0                   0   \n",
       "1   2       1   76                1          3.0                   0   \n",
       "2   3       1   47                1         28.0                   0   \n",
       "3   4       1   21                1         11.0                   1   \n",
       "4   5       0   29                1         41.0                   1   \n",
       "\n",
       "   Vehicle_Age  Vehicle_Damage  Annual_Premium  Policy_Sales_Channel  Vintage  \\\n",
       "0            2               1         40454.0                  26.0      217   \n",
       "1            1               0         33536.0                  26.0      183   \n",
       "2            2               1         38294.0                  26.0       27   \n",
       "3            0               0         28619.0                 152.0      203   \n",
       "4            0               0         27496.0                 152.0       39   \n",
       "\n",
       "   Response  \n",
       "0         1  \n",
       "1         0  \n",
       "2         1  \n",
       "3         0  \n",
       "4         0  "
      ]
     },
     "execution_count": 10,
     "metadata": {},
     "output_type": "execute_result"
    }
   ],
   "source": [
    "train.head()"
   ]
  },
  {
   "cell_type": "code",
   "execution_count": 11,
   "id": "8ac01b27",
   "metadata": {},
   "outputs": [
    {
     "data": {
      "text/html": [
       "<div>\n",
       "<style scoped>\n",
       "    .dataframe tbody tr th:only-of-type {\n",
       "        vertical-align: middle;\n",
       "    }\n",
       "\n",
       "    .dataframe tbody tr th {\n",
       "        vertical-align: top;\n",
       "    }\n",
       "\n",
       "    .dataframe thead th {\n",
       "        text-align: right;\n",
       "    }\n",
       "</style>\n",
       "<table border=\"1\" class=\"dataframe\">\n",
       "  <thead>\n",
       "    <tr style=\"text-align: right;\">\n",
       "      <th></th>\n",
       "      <th>id</th>\n",
       "      <th>Gender</th>\n",
       "      <th>Age</th>\n",
       "      <th>Driving_License</th>\n",
       "      <th>Region_Code</th>\n",
       "      <th>Previously_Insured</th>\n",
       "      <th>Vehicle_Age</th>\n",
       "      <th>Vehicle_Damage</th>\n",
       "      <th>Annual_Premium</th>\n",
       "      <th>Policy_Sales_Channel</th>\n",
       "      <th>Vintage</th>\n",
       "    </tr>\n",
       "  </thead>\n",
       "  <tbody>\n",
       "    <tr>\n",
       "      <th>0</th>\n",
       "      <td>381110</td>\n",
       "      <td>1</td>\n",
       "      <td>25</td>\n",
       "      <td>1</td>\n",
       "      <td>11.0</td>\n",
       "      <td>1</td>\n",
       "      <td>0</td>\n",
       "      <td>0</td>\n",
       "      <td>35786.0</td>\n",
       "      <td>152.0</td>\n",
       "      <td>53</td>\n",
       "    </tr>\n",
       "    <tr>\n",
       "      <th>1</th>\n",
       "      <td>381111</td>\n",
       "      <td>1</td>\n",
       "      <td>40</td>\n",
       "      <td>1</td>\n",
       "      <td>28.0</td>\n",
       "      <td>0</td>\n",
       "      <td>1</td>\n",
       "      <td>1</td>\n",
       "      <td>33762.0</td>\n",
       "      <td>7.0</td>\n",
       "      <td>111</td>\n",
       "    </tr>\n",
       "    <tr>\n",
       "      <th>2</th>\n",
       "      <td>381112</td>\n",
       "      <td>1</td>\n",
       "      <td>47</td>\n",
       "      <td>1</td>\n",
       "      <td>28.0</td>\n",
       "      <td>0</td>\n",
       "      <td>1</td>\n",
       "      <td>1</td>\n",
       "      <td>40050.0</td>\n",
       "      <td>124.0</td>\n",
       "      <td>199</td>\n",
       "    </tr>\n",
       "    <tr>\n",
       "      <th>3</th>\n",
       "      <td>381113</td>\n",
       "      <td>1</td>\n",
       "      <td>24</td>\n",
       "      <td>1</td>\n",
       "      <td>27.0</td>\n",
       "      <td>1</td>\n",
       "      <td>0</td>\n",
       "      <td>1</td>\n",
       "      <td>37356.0</td>\n",
       "      <td>152.0</td>\n",
       "      <td>187</td>\n",
       "    </tr>\n",
       "    <tr>\n",
       "      <th>4</th>\n",
       "      <td>381114</td>\n",
       "      <td>1</td>\n",
       "      <td>27</td>\n",
       "      <td>1</td>\n",
       "      <td>28.0</td>\n",
       "      <td>1</td>\n",
       "      <td>0</td>\n",
       "      <td>0</td>\n",
       "      <td>59097.0</td>\n",
       "      <td>152.0</td>\n",
       "      <td>297</td>\n",
       "    </tr>\n",
       "  </tbody>\n",
       "</table>\n",
       "</div>"
      ],
      "text/plain": [
       "       id  Gender  Age  Driving_License  Region_Code  Previously_Insured  \\\n",
       "0  381110       1   25                1         11.0                   1   \n",
       "1  381111       1   40                1         28.0                   0   \n",
       "2  381112       1   47                1         28.0                   0   \n",
       "3  381113       1   24                1         27.0                   1   \n",
       "4  381114       1   27                1         28.0                   1   \n",
       "\n",
       "   Vehicle_Age  Vehicle_Damage  Annual_Premium  Policy_Sales_Channel  Vintage  \n",
       "0            0               0         35786.0                 152.0       53  \n",
       "1            1               1         33762.0                   7.0      111  \n",
       "2            1               1         40050.0                 124.0      199  \n",
       "3            0               1         37356.0                 152.0      187  \n",
       "4            0               0         59097.0                 152.0      297  "
      ]
     },
     "execution_count": 11,
     "metadata": {},
     "output_type": "execute_result"
    }
   ],
   "source": [
    "test.head()"
   ]
  },
  {
   "cell_type": "code",
   "execution_count": 12,
   "id": "18624610",
   "metadata": {},
   "outputs": [
    {
     "data": {
      "text/html": [
       "<div>\n",
       "<style scoped>\n",
       "    .dataframe tbody tr th:only-of-type {\n",
       "        vertical-align: middle;\n",
       "    }\n",
       "\n",
       "    .dataframe tbody tr th {\n",
       "        vertical-align: top;\n",
       "    }\n",
       "\n",
       "    .dataframe thead th {\n",
       "        text-align: right;\n",
       "    }\n",
       "</style>\n",
       "<table border=\"1\" class=\"dataframe\">\n",
       "  <thead>\n",
       "    <tr style=\"text-align: right;\">\n",
       "      <th></th>\n",
       "      <th>id</th>\n",
       "      <th>Gender</th>\n",
       "      <th>Age</th>\n",
       "      <th>Driving_License</th>\n",
       "      <th>Region_Code</th>\n",
       "      <th>Previously_Insured</th>\n",
       "      <th>Vehicle_Age</th>\n",
       "      <th>Vehicle_Damage</th>\n",
       "      <th>Annual_Premium</th>\n",
       "      <th>Policy_Sales_Channel</th>\n",
       "      <th>Vintage</th>\n",
       "      <th>Response</th>\n",
       "    </tr>\n",
       "  </thead>\n",
       "  <tbody>\n",
       "    <tr>\n",
       "      <th>id</th>\n",
       "      <td>1.000000</td>\n",
       "      <td>0.000999</td>\n",
       "      <td>0.001561</td>\n",
       "      <td>-0.000564</td>\n",
       "      <td>-0.000572</td>\n",
       "      <td>0.002457</td>\n",
       "      <td>0.000878</td>\n",
       "      <td>-0.001507</td>\n",
       "      <td>0.003027</td>\n",
       "      <td>-0.002837</td>\n",
       "      <td>-0.000630</td>\n",
       "      <td>-0.001368</td>\n",
       "    </tr>\n",
       "    <tr>\n",
       "      <th>Gender</th>\n",
       "      <td>0.000999</td>\n",
       "      <td>1.000000</td>\n",
       "      <td>0.145545</td>\n",
       "      <td>-0.018374</td>\n",
       "      <td>0.000604</td>\n",
       "      <td>-0.081932</td>\n",
       "      <td>0.160427</td>\n",
       "      <td>0.091606</td>\n",
       "      <td>0.003673</td>\n",
       "      <td>-0.111159</td>\n",
       "      <td>-0.002517</td>\n",
       "      <td>0.052440</td>\n",
       "    </tr>\n",
       "    <tr>\n",
       "      <th>Age</th>\n",
       "      <td>0.001561</td>\n",
       "      <td>0.145545</td>\n",
       "      <td>1.000000</td>\n",
       "      <td>-0.079782</td>\n",
       "      <td>0.042574</td>\n",
       "      <td>-0.254682</td>\n",
       "      <td>0.765790</td>\n",
       "      <td>0.267534</td>\n",
       "      <td>0.067507</td>\n",
       "      <td>-0.577826</td>\n",
       "      <td>-0.001264</td>\n",
       "      <td>0.111147</td>\n",
       "    </tr>\n",
       "    <tr>\n",
       "      <th>Driving_License</th>\n",
       "      <td>-0.000564</td>\n",
       "      <td>-0.018374</td>\n",
       "      <td>-0.079782</td>\n",
       "      <td>1.000000</td>\n",
       "      <td>-0.001081</td>\n",
       "      <td>0.014969</td>\n",
       "      <td>-0.037306</td>\n",
       "      <td>-0.016622</td>\n",
       "      <td>-0.011906</td>\n",
       "      <td>0.043731</td>\n",
       "      <td>-0.000848</td>\n",
       "      <td>0.010155</td>\n",
       "    </tr>\n",
       "    <tr>\n",
       "      <th>Region_Code</th>\n",
       "      <td>-0.000572</td>\n",
       "      <td>0.000604</td>\n",
       "      <td>0.042574</td>\n",
       "      <td>-0.001081</td>\n",
       "      <td>1.000000</td>\n",
       "      <td>-0.024659</td>\n",
       "      <td>0.043778</td>\n",
       "      <td>0.028235</td>\n",
       "      <td>-0.010588</td>\n",
       "      <td>-0.042420</td>\n",
       "      <td>-0.002750</td>\n",
       "      <td>0.010570</td>\n",
       "    </tr>\n",
       "    <tr>\n",
       "      <th>Previously_Insured</th>\n",
       "      <td>0.002457</td>\n",
       "      <td>-0.081932</td>\n",
       "      <td>-0.254682</td>\n",
       "      <td>0.014969</td>\n",
       "      <td>-0.024659</td>\n",
       "      <td>1.000000</td>\n",
       "      <td>-0.380873</td>\n",
       "      <td>-0.824143</td>\n",
       "      <td>0.004269</td>\n",
       "      <td>0.219381</td>\n",
       "      <td>0.002537</td>\n",
       "      <td>-0.341170</td>\n",
       "    </tr>\n",
       "    <tr>\n",
       "      <th>Vehicle_Age</th>\n",
       "      <td>0.000878</td>\n",
       "      <td>0.160427</td>\n",
       "      <td>0.765790</td>\n",
       "      <td>-0.037306</td>\n",
       "      <td>0.043778</td>\n",
       "      <td>-0.380873</td>\n",
       "      <td>1.000000</td>\n",
       "      <td>0.396873</td>\n",
       "      <td>0.041580</td>\n",
       "      <td>-0.550663</td>\n",
       "      <td>-0.001892</td>\n",
       "      <td>0.221874</td>\n",
       "    </tr>\n",
       "    <tr>\n",
       "      <th>Vehicle_Damage</th>\n",
       "      <td>-0.001507</td>\n",
       "      <td>0.091606</td>\n",
       "      <td>0.267534</td>\n",
       "      <td>-0.016622</td>\n",
       "      <td>0.028235</td>\n",
       "      <td>-0.824143</td>\n",
       "      <td>0.396873</td>\n",
       "      <td>1.000000</td>\n",
       "      <td>0.009349</td>\n",
       "      <td>-0.224377</td>\n",
       "      <td>-0.002064</td>\n",
       "      <td>0.354400</td>\n",
       "    </tr>\n",
       "    <tr>\n",
       "      <th>Annual_Premium</th>\n",
       "      <td>0.003027</td>\n",
       "      <td>0.003673</td>\n",
       "      <td>0.067507</td>\n",
       "      <td>-0.011906</td>\n",
       "      <td>-0.010588</td>\n",
       "      <td>0.004269</td>\n",
       "      <td>0.041580</td>\n",
       "      <td>0.009349</td>\n",
       "      <td>1.000000</td>\n",
       "      <td>-0.113247</td>\n",
       "      <td>-0.000608</td>\n",
       "      <td>0.022575</td>\n",
       "    </tr>\n",
       "    <tr>\n",
       "      <th>Policy_Sales_Channel</th>\n",
       "      <td>-0.002837</td>\n",
       "      <td>-0.111159</td>\n",
       "      <td>-0.577826</td>\n",
       "      <td>0.043731</td>\n",
       "      <td>-0.042420</td>\n",
       "      <td>0.219381</td>\n",
       "      <td>-0.550663</td>\n",
       "      <td>-0.224377</td>\n",
       "      <td>-0.113247</td>\n",
       "      <td>1.000000</td>\n",
       "      <td>0.000002</td>\n",
       "      <td>-0.139042</td>\n",
       "    </tr>\n",
       "    <tr>\n",
       "      <th>Vintage</th>\n",
       "      <td>-0.000630</td>\n",
       "      <td>-0.002517</td>\n",
       "      <td>-0.001264</td>\n",
       "      <td>-0.000848</td>\n",
       "      <td>-0.002750</td>\n",
       "      <td>0.002537</td>\n",
       "      <td>-0.001892</td>\n",
       "      <td>-0.002064</td>\n",
       "      <td>-0.000608</td>\n",
       "      <td>0.000002</td>\n",
       "      <td>1.000000</td>\n",
       "      <td>-0.001050</td>\n",
       "    </tr>\n",
       "    <tr>\n",
       "      <th>Response</th>\n",
       "      <td>-0.001368</td>\n",
       "      <td>0.052440</td>\n",
       "      <td>0.111147</td>\n",
       "      <td>0.010155</td>\n",
       "      <td>0.010570</td>\n",
       "      <td>-0.341170</td>\n",
       "      <td>0.221874</td>\n",
       "      <td>0.354400</td>\n",
       "      <td>0.022575</td>\n",
       "      <td>-0.139042</td>\n",
       "      <td>-0.001050</td>\n",
       "      <td>1.000000</td>\n",
       "    </tr>\n",
       "  </tbody>\n",
       "</table>\n",
       "</div>"
      ],
      "text/plain": [
       "                            id    Gender       Age  Driving_License  \\\n",
       "id                    1.000000  0.000999  0.001561        -0.000564   \n",
       "Gender                0.000999  1.000000  0.145545        -0.018374   \n",
       "Age                   0.001561  0.145545  1.000000        -0.079782   \n",
       "Driving_License      -0.000564 -0.018374 -0.079782         1.000000   \n",
       "Region_Code          -0.000572  0.000604  0.042574        -0.001081   \n",
       "Previously_Insured    0.002457 -0.081932 -0.254682         0.014969   \n",
       "Vehicle_Age           0.000878  0.160427  0.765790        -0.037306   \n",
       "Vehicle_Damage       -0.001507  0.091606  0.267534        -0.016622   \n",
       "Annual_Premium        0.003027  0.003673  0.067507        -0.011906   \n",
       "Policy_Sales_Channel -0.002837 -0.111159 -0.577826         0.043731   \n",
       "Vintage              -0.000630 -0.002517 -0.001264        -0.000848   \n",
       "Response             -0.001368  0.052440  0.111147         0.010155   \n",
       "\n",
       "                      Region_Code  Previously_Insured  Vehicle_Age  \\\n",
       "id                      -0.000572            0.002457     0.000878   \n",
       "Gender                   0.000604           -0.081932     0.160427   \n",
       "Age                      0.042574           -0.254682     0.765790   \n",
       "Driving_License         -0.001081            0.014969    -0.037306   \n",
       "Region_Code              1.000000           -0.024659     0.043778   \n",
       "Previously_Insured      -0.024659            1.000000    -0.380873   \n",
       "Vehicle_Age              0.043778           -0.380873     1.000000   \n",
       "Vehicle_Damage           0.028235           -0.824143     0.396873   \n",
       "Annual_Premium          -0.010588            0.004269     0.041580   \n",
       "Policy_Sales_Channel    -0.042420            0.219381    -0.550663   \n",
       "Vintage                 -0.002750            0.002537    -0.001892   \n",
       "Response                 0.010570           -0.341170     0.221874   \n",
       "\n",
       "                      Vehicle_Damage  Annual_Premium  Policy_Sales_Channel  \\\n",
       "id                         -0.001507        0.003027             -0.002837   \n",
       "Gender                      0.091606        0.003673             -0.111159   \n",
       "Age                         0.267534        0.067507             -0.577826   \n",
       "Driving_License            -0.016622       -0.011906              0.043731   \n",
       "Region_Code                 0.028235       -0.010588             -0.042420   \n",
       "Previously_Insured         -0.824143        0.004269              0.219381   \n",
       "Vehicle_Age                 0.396873        0.041580             -0.550663   \n",
       "Vehicle_Damage              1.000000        0.009349             -0.224377   \n",
       "Annual_Premium              0.009349        1.000000             -0.113247   \n",
       "Policy_Sales_Channel       -0.224377       -0.113247              1.000000   \n",
       "Vintage                    -0.002064       -0.000608              0.000002   \n",
       "Response                    0.354400        0.022575             -0.139042   \n",
       "\n",
       "                       Vintage  Response  \n",
       "id                   -0.000630 -0.001368  \n",
       "Gender               -0.002517  0.052440  \n",
       "Age                  -0.001264  0.111147  \n",
       "Driving_License      -0.000848  0.010155  \n",
       "Region_Code          -0.002750  0.010570  \n",
       "Previously_Insured    0.002537 -0.341170  \n",
       "Vehicle_Age          -0.001892  0.221874  \n",
       "Vehicle_Damage       -0.002064  0.354400  \n",
       "Annual_Premium       -0.000608  0.022575  \n",
       "Policy_Sales_Channel  0.000002 -0.139042  \n",
       "Vintage               1.000000 -0.001050  \n",
       "Response             -0.001050  1.000000  "
      ]
     },
     "execution_count": 12,
     "metadata": {},
     "output_type": "execute_result"
    }
   ],
   "source": [
    "# Correlation\n",
    "train.corr()"
   ]
  },
  {
   "cell_type": "code",
   "execution_count": 13,
   "id": "994cbed0",
   "metadata": {},
   "outputs": [
    {
     "data": {
      "image/png": "[encoded data removed]",
      "text/plain": [
       "<Figure size 1000x1000 with 2 Axes>"
      ]
     },
     "metadata": {},
     "output_type": "display_data"
    },
    {
     "data": {
      "text/plain": [
       "<Figure size 640x480 with 0 Axes>"
      ]
     },
     "metadata": {},
     "output_type": "display_data"
    }
   ],
   "source": [
    "plt.figure(figsize=(10,10))\n",
    "sns.heatmap(train.corr(),annot=True, cmap='winter')\n",
    "plt.show()\n",
    "plt.savefig('correlationfigure_insurance')"
   ]
  },
  {
   "cell_type": "markdown",
   "id": "a1c8c09b",
   "metadata": {},
   "source": [
    "#### Inference: Vehicle_Damage and Vehicle_Age are positively correlated with Response, while Previously_Insured and Policy_Sales_Channel are negatively correlated with the response of customers."
   ]
  },
  {
   "cell_type": "code",
   "execution_count": 14,
   "id": "579de444",
   "metadata": {},
   "outputs": [
    {
     "data": {
      "text/plain": [
       "<Axes: xlabel='Response', ylabel='count'>"
      ]
     },
     "execution_count": 14,
     "metadata": {},
     "output_type": "execute_result"
    },
    {
     "data": {
      "image/png": "[encoded data removed]",
      "text/plain": [
       "<Figure size 640x480 with 1 Axes>"
      ]
     },
     "metadata": {},
     "output_type": "display_data"
    }
   ],
   "source": [
    "sns.countplot(x=\"Response\", data=train)"
   ]
  },
  {
   "cell_type": "code",
   "execution_count": 15,
   "id": "6fe51dc6",
   "metadata": {},
   "outputs": [
    {
     "data": {
      "text/plain": [
       "46710"
      ]
     },
     "execution_count": 15,
     "metadata": {},
     "output_type": "execute_result"
    }
   ],
   "source": [
    "#Positive Response\n",
    "positive_count=train[train[\"Response\"] == 1].value_counts().sum()\n",
    "positive_count"
   ]
  },
  {
   "cell_type": "code",
   "execution_count": 16,
   "id": "85d0b3c0",
   "metadata": {},
   "outputs": [
    {
     "data": {
      "text/plain": [
       "381109"
      ]
     },
     "execution_count": 16,
     "metadata": {},
     "output_type": "execute_result"
    }
   ],
   "source": [
    "#Total Responses\n",
    "total_response=train['Response'].value_counts().sum()\n",
    "total_response"
   ]
  },
  {
   "cell_type": "code",
   "execution_count": 17,
   "id": "3eb37eef",
   "metadata": {},
   "outputs": [
    {
     "name": "stdout",
     "output_type": "stream",
     "text": [
      "The percentage of positive response in train data is : 12 %\n"
     ]
    }
   ],
   "source": [
    "print(\"The percentage of positive response in train data is :\", round(positive_count*100/total_response),\"%\")"
   ]
  },
  {
   "cell_type": "code",
   "execution_count": 18,
   "id": "14202509",
   "metadata": {},
   "outputs": [
    {
     "data": {
      "text/plain": [
       "<Axes: xlabel='Previously_Insured', ylabel='count'>"
      ]
     },
     "execution_count": 18,
     "metadata": {},
     "output_type": "execute_result"
    },
    {
     "data": {
      "image/png": "[encoded data removed]",
      "text/plain": [
       "<Figure size 640x480 with 1 Axes>"
      ]
     },
     "metadata": {},
     "output_type": "display_data"
    }
   ],
   "source": [
    "sns.countplot(x='Previously_Insured',data=train,hue='Response')"
   ]
  },
  {
   "cell_type": "markdown",
   "id": "db275ddb",
   "metadata": {},
   "source": [
    "#### Inference: People who already have insurance might not be interested. Maybe it's because their current insurance hasn't ended yet."
   ]
  },
  {
   "cell_type": "code",
   "execution_count": 19,
   "id": "3037a3f1",
   "metadata": {
    "scrolled": false
   },
   "outputs": [
    {
     "name": "stdout",
     "output_type": "stream",
     "text": [
      "Most used policy channel\n",
      "Policy_Sales_Channel\n",
      "152.0    134784\n",
      "26.0      79700\n",
      "124.0     73995\n",
      "160.0     21779\n",
      "156.0     10661\n",
      "          ...  \n",
      "149.0         1\n",
      "43.0          1\n",
      "144.0         1\n",
      "143.0         1\n",
      "41.0          1\n",
      "Name: count, Length: 155, dtype: int64\n"
     ]
    }
   ],
   "source": [
    "print(\"Most used policy channel\")\n",
    "print(train['Policy_Sales_Channel'].value_counts())"
   ]
  },
  {
   "cell_type": "code",
   "execution_count": 20,
   "id": "699e0d01",
   "metadata": {},
   "outputs": [
    {
     "name": "stderr",
     "output_type": "stream",
     "text": [
      "C:\\Users\\91878\\AppData\\Local\\Temp\\ipykernel_13660\\2488451306.py:2: UserWarning: \n",
      "\n",
      "`distplot` is a deprecated function and will be removed in seaborn v0.14.0.\n",
      "\n",
      "Please adapt your code to use either `displot` (a figure-level function with\n",
      "similar flexibility) or `histplot` (an axes-level function for histograms).\n",
      "\n",
      "For a guide to updating your code to use the new functions, please see\n",
      "https://gist.github.com/mwaskom/de44147ed2974457ad6372750bbe5751\n",
      "\n",
      "  sns.distplot(psc_interested)\n"
     ]
    },
    {
     "data": {
      "image/png": "[encoded data removed]",
      "text/plain": [
       "<Figure size 640x480 with 1 Axes>"
      ]
     },
     "metadata": {},
     "output_type": "display_data"
    }
   ],
   "source": [
    "psc_interested = train.loc[train['Response'] == 1, 'Policy_Sales_Channel']\n",
    "sns.distplot(psc_interested)\n",
    "plt.title(\"Distribution of Policy Sales Channel for customers that were interested\")\n",
    "plt.show()"
   ]
  },
  {
   "cell_type": "markdown",
   "id": "66fa2c46",
   "metadata": {},
   "source": [
    "#### Inference: We can clearly see that people were mostly interested when Policy_Sales_Channel 152, 26 and 124 were used."
   ]
  },
  {
   "cell_type": "markdown",
   "id": "3dcabd54",
   "metadata": {},
   "source": [
    "### Train-Test split"
   ]
  },
  {
   "cell_type": "code",
   "execution_count": 83,
   "id": "cad5fa1c",
   "metadata": {},
   "outputs": [],
   "source": [
    "# Creating X (features) and y (target variable) in \"train\" dataframe\n",
    "# here, we are taking the \"train\" dataframe first to build the model, then we will apply the best and more accurate column to the \"test\" dataframe\n",
    "X = train.drop(['Response', 'id'], axis=1)  # Exclude the Response an 'id' column\n",
    "y = train['Response']\n",
    "def data_prep(train):\n",
    "    X_train,X_test,y_train,y_test = train_test_split(X,y,test_size=0.20,random_state=123)\n",
    "    return X_train,X_test,y_train,y_test"
   ]
  },
  {
   "cell_type": "code",
   "execution_count": 84,
   "id": "42f68869",
   "metadata": {},
   "outputs": [],
   "source": [
    "X_train,X_test,y_train,y_test=data_prep(train)"
   ]
  },
  {
   "cell_type": "code",
   "execution_count": 85,
   "id": "735780b4",
   "metadata": {},
   "outputs": [
    {
     "data": {
      "text/plain": [
       "(304887, 10)"
      ]
     },
     "execution_count": 85,
     "metadata": {},
     "output_type": "execute_result"
    }
   ],
   "source": [
    "X_train.shape"
   ]
  },
  {
   "cell_type": "code",
   "execution_count": 86,
   "id": "c1479c35",
   "metadata": {},
   "outputs": [
    {
     "data": {
      "text/plain": [
       "(76222, 10)"
      ]
     },
     "execution_count": 86,
     "metadata": {},
     "output_type": "execute_result"
    }
   ],
   "source": [
    "X_test.shape"
   ]
  },
  {
   "cell_type": "markdown",
   "id": "f27a9b14",
   "metadata": {},
   "source": [
    "#### Above, we have splitted the dataset into train and test with 80% and 20% data respectively."
   ]
  },
  {
   "cell_type": "markdown",
   "id": "bba3773f",
   "metadata": {},
   "source": [
    "## Application of Algorithm into different models"
   ]
  },
  {
   "cell_type": "markdown",
   "id": "90e0118e",
   "metadata": {},
   "source": [
    "### 1. DECISION TREE MODEL"
   ]
  },
  {
   "cell_type": "code",
   "execution_count": 25,
   "id": "4911807d",
   "metadata": {},
   "outputs": [],
   "source": [
    "from sklearn.tree import DecisionTreeClassifier"
   ]
  },
  {
   "cell_type": "code",
   "execution_count": 87,
   "id": "9cb5976f",
   "metadata": {},
   "outputs": [],
   "source": [
    "model_dstree=DecisionTreeClassifier(criterion=\"entropy\") ## Create the model\n",
    "train_model=model_dstree.fit(X_train,y_train) ## Fitting the model\n",
    "pred1=train_model.predict(X_test) ## Predicting"
   ]
  },
  {
   "cell_type": "code",
   "execution_count": 88,
   "id": "1f2bac3e",
   "metadata": {},
   "outputs": [
    {
     "data": {
      "text/plain": [
       "array([0, 0, 0, ..., 0, 0, 0], dtype=int64)"
      ]
     },
     "execution_count": 88,
     "metadata": {},
     "output_type": "execute_result"
    }
   ],
   "source": [
    "pred1"
   ]
  },
  {
   "cell_type": "code",
   "execution_count": 89,
   "id": "c0147d18",
   "metadata": {},
   "outputs": [
    {
     "data": {
      "text/plain": [
       "76222"
      ]
     },
     "execution_count": 89,
     "metadata": {},
     "output_type": "execute_result"
    }
   ],
   "source": [
    "len(pred1) #Checking the length"
   ]
  },
  {
   "cell_type": "code",
   "execution_count": 90,
   "id": "6f481616",
   "metadata": {},
   "outputs": [],
   "source": [
    "def ds_tree_diag(y_test,pred1):\n",
    "    acc_ds=accuracy_score(y_test, pred1)\n",
    "    prc_ds=precision_score(y_test,pred1)\n",
    "    clf_ds=classification_report(y_test,pred1)\n",
    "    conf_ds=confusion_matrix(y_test,pred1)\n",
    "    return acc_ds,clf_ds,conf_ds,prc_ds"
   ]
  },
  {
   "cell_type": "code",
   "execution_count": 91,
   "id": "7f4b3bbf",
   "metadata": {},
   "outputs": [
    {
     "name": "stdout",
     "output_type": "stream",
     "text": [
      "MODEL 1- Decison Tree Model\n",
      "--------------------------------------------------\n",
      "The accuracy score: 0.8248012384875758\n",
      "--------------------------------------------------\n",
      "The Classification Report:\n",
      "               precision    recall  f1-score   support\n",
      "\n",
      "           0       0.90      0.90      0.90     66897\n",
      "           1       0.29      0.31      0.30      9325\n",
      "\n",
      "    accuracy                           0.82     76222\n",
      "   macro avg       0.60      0.60      0.60     76222\n",
      "weighted avg       0.83      0.82      0.83     76222\n",
      "\n",
      "--------------------------------------------------\n",
      "The Confusion Matrix:\n",
      " [[59982  6915]\n",
      " [ 6439  2886]]\n",
      "--------------------------------------------------\n",
      "The Precision Score:\n",
      " 0.29445974900520355\n"
     ]
    }
   ],
   "source": [
    "acc_ds,clf_ds,conf_ds,prc_ds=ds_tree_diag(y_test,pred1)\n",
    "print(\"MODEL 1- Decison Tree Model\")\n",
    "print(\"--------------------------------------------------\")\n",
    "print(\"The accuracy score:\",acc_ds)\n",
    "print(\"--------------------------------------------------\")\n",
    "print(\"The Classification Report:\\n\", clf_ds)\n",
    "print(\"--------------------------------------------------\")\n",
    "print(\"The Confusion Matrix:\\n\",conf_ds)\n",
    "print(\"--------------------------------------------------\")\n",
    "print(\"The Precision Score:\\n\",prc_ds)"
   ]
  },
  {
   "cell_type": "code",
   "execution_count": 92,
   "id": "f35b8332",
   "metadata": {},
   "outputs": [
    {
     "data": {
      "image/png": "[encoded data removed]",
      "text/plain": [
       "<Figure size 640x480 with 2 Axes>"
      ]
     },
     "metadata": {},
     "output_type": "display_data"
    }
   ],
   "source": [
    "sns.heatmap(conf_ds, annot=True, cmap='winter', linecolor='black', linewidths=0.2)\n",
    "plt.savefig('insurance_dstree_model_cnf_matrix')"
   ]
  },
  {
   "cell_type": "markdown",
   "id": "3b940477",
   "metadata": {},
   "source": [
    "#### Inference: From the above report, Decision Tree Model is giving accuracy score of about 82.5%"
   ]
  },
  {
   "cell_type": "markdown",
   "id": "61a24fea",
   "metadata": {},
   "source": [
    "### 2. RANDOM FOREST CLASSIFIER"
   ]
  },
  {
   "cell_type": "code",
   "execution_count": 93,
   "id": "f2c9d820",
   "metadata": {},
   "outputs": [],
   "source": [
    "from sklearn.ensemble import RandomForestClassifier"
   ]
  },
  {
   "cell_type": "code",
   "execution_count": 94,
   "id": "d371582f",
   "metadata": {},
   "outputs": [],
   "source": [
    "model_rf=RandomForestClassifier(criterion='entropy')\n",
    "train_model_2=model_rf.fit(X_train,y_train)\n",
    "pred2=train_model_2.predict(X_test)"
   ]
  },
  {
   "cell_type": "code",
   "execution_count": 95,
   "id": "69d05aea",
   "metadata": {},
   "outputs": [
    {
     "data": {
      "text/plain": [
       "array([0, 0, 0, ..., 0, 0, 0], dtype=int64)"
      ]
     },
     "execution_count": 95,
     "metadata": {},
     "output_type": "execute_result"
    }
   ],
   "source": [
    "pred2"
   ]
  },
  {
   "cell_type": "code",
   "execution_count": 96,
   "id": "3c156f31",
   "metadata": {},
   "outputs": [
    {
     "data": {
      "text/plain": [
       "76222"
      ]
     },
     "execution_count": 96,
     "metadata": {},
     "output_type": "execute_result"
    }
   ],
   "source": [
    "len(pred2)"
   ]
  },
  {
   "cell_type": "code",
   "execution_count": 97,
   "id": "3ee2cd75",
   "metadata": {},
   "outputs": [],
   "source": [
    "def rndm_tree_diag(y_test,pred2):\n",
    "    acc_rndm=accuracy_score(y_test, pred2)\n",
    "    prc_rndm=precision_score(y_test,pred2)\n",
    "    clf_rndm=classification_report(y_test,pred2)\n",
    "    conf_rndm=confusion_matrix(y_test,pred2)\n",
    "    return acc_rndm,clf_rndm,conf_rndm,prc_rndm"
   ]
  },
  {
   "cell_type": "code",
   "execution_count": 98,
   "id": "4a73452d",
   "metadata": {},
   "outputs": [
    {
     "name": "stdout",
     "output_type": "stream",
     "text": [
      "MODEL 3- Random Forest Classifier\n",
      "--------------------------------------------------\n",
      "The accuracy score: 0.8666395528849938\n",
      "--------------------------------------------------\n",
      "The Classification Report:\n",
      "               precision    recall  f1-score   support\n",
      "\n",
      "           0       0.89      0.97      0.93     66897\n",
      "           1       0.37      0.12      0.18      9325\n",
      "\n",
      "    accuracy                           0.87     76222\n",
      "   macro avg       0.63      0.55      0.56     76222\n",
      "weighted avg       0.82      0.87      0.84     76222\n",
      "\n",
      "--------------------------------------------------\n",
      "The Confusion Matrix:\n",
      " [[64913  1984]\n",
      " [ 8181  1144]]\n",
      "--------------------------------------------------\n",
      "The Precision Score:\n",
      " 0.3657289002557545\n"
     ]
    }
   ],
   "source": [
    "acc_rndm,clf_rndm,conf_rndm,prc_rndm=rndm_tree_diag(y_test,pred2)\n",
    "print(\"MODEL 3- Random Forest Classifier\")\n",
    "print(\"--------------------------------------------------\")\n",
    "print(\"The accuracy score:\",acc_rndm)\n",
    "print(\"--------------------------------------------------\")\n",
    "print(\"The Classification Report:\\n\", clf_rndm)\n",
    "print(\"--------------------------------------------------\")\n",
    "print(\"The Confusion Matrix:\\n\",conf_rndm)\n",
    "print(\"--------------------------------------------------\")\n",
    "print(\"The Precision Score:\\n\",prc_rndm)"
   ]
  },
  {
   "cell_type": "code",
   "execution_count": 99,
   "id": "68ade297",
   "metadata": {},
   "outputs": [
    {
     "data": {
      "image/png": "[encoded data removed]",
      "text/plain": [
       "<Figure size 640x480 with 2 Axes>"
      ]
     },
     "metadata": {},
     "output_type": "display_data"
    }
   ],
   "source": [
    "sns.heatmap(conf_rndm, annot=True, cmap='winter', linecolor='black', linewidths=0.2)\n",
    "plt.savefig('insurance_rndmforest_cnf_matrix')"
   ]
  },
  {
   "cell_type": "markdown",
   "id": "3d1a6e07",
   "metadata": {},
   "source": [
    "#### Inference: From the above report, Random Forest Classifier is giving accuracy score of about 86.6%"
   ]
  },
  {
   "cell_type": "markdown",
   "id": "f58ae218",
   "metadata": {},
   "source": [
    "### 3. KNN MODEL (K-Nearest Neighbors) Classifier"
   ]
  },
  {
   "cell_type": "code",
   "execution_count": 100,
   "id": "c702d716",
   "metadata": {},
   "outputs": [],
   "source": [
    "from sklearn.neighbors import KNeighborsClassifier"
   ]
  },
  {
   "cell_type": "code",
   "execution_count": 103,
   "id": "4b9a7636",
   "metadata": {},
   "outputs": [],
   "source": [
    "model_knn=KNeighborsClassifier(n_neighbors=13)\n",
    "train_model_3=model_knn.fit(X_train,y_train)\n",
    "pred3=train_model_3.predict(X_test)"
   ]
  },
  {
   "cell_type": "code",
   "execution_count": 104,
   "id": "12fb1c02",
   "metadata": {},
   "outputs": [
    {
     "data": {
      "text/plain": [
       "array([0, 0, 0, ..., 0, 0, 0], dtype=int64)"
      ]
     },
     "execution_count": 104,
     "metadata": {},
     "output_type": "execute_result"
    }
   ],
   "source": [
    "pred3"
   ]
  },
  {
   "cell_type": "code",
   "execution_count": 105,
   "id": "34f5f282",
   "metadata": {},
   "outputs": [
    {
     "data": {
      "text/plain": [
       "76222"
      ]
     },
     "execution_count": 105,
     "metadata": {},
     "output_type": "execute_result"
    }
   ],
   "source": [
    "len(pred3)"
   ]
  },
  {
   "cell_type": "code",
   "execution_count": 106,
   "id": "c20fc21f",
   "metadata": {},
   "outputs": [],
   "source": [
    "def knn_diag(y_test,pred3):\n",
    "    acc_knn=accuracy_score(y_test, pred3)\n",
    "    prc_knn=precision_score(y_test,pred3)\n",
    "    clf_knn=classification_report(y_test,pred3)\n",
    "    conf_knn=confusion_matrix(y_test,pred3)\n",
    "    return acc_knn,clf_knn,conf_knn,prc_knn"
   ]
  },
  {
   "cell_type": "code",
   "execution_count": 74,
   "id": "680f30c9",
   "metadata": {},
   "outputs": [
    {
     "name": "stdout",
     "output_type": "stream",
     "text": [
      "MODEL 3- Random Forest Classifier\n",
      "--------------------------------------------------\n",
      "The accuracy score: 0.8772532864527302\n",
      "--------------------------------------------------\n",
      "The Classification Report:\n",
      "               precision    recall  f1-score   support\n",
      "\n",
      "           0       0.88      1.00      0.93     66897\n",
      "           1       0.18      0.00      0.00      9325\n",
      "\n",
      "    accuracy                           0.88     76222\n",
      "   macro avg       0.53      0.50      0.47     76222\n",
      "weighted avg       0.79      0.88      0.82     76222\n",
      "\n",
      "--------------------------------------------------\n",
      "The Confusion Matrix:\n",
      " [[66857    40]\n",
      " [ 9316     9]]\n",
      "--------------------------------------------------\n",
      "The Precision Score:\n",
      " 0.1836734693877551\n"
     ]
    }
   ],
   "source": [
    "acc_knn,clf_knn,conf_knn,prc_knn=knn_diag(y_test,pred3)\n",
    "print(\"MODEL 3- Random Forest Classifier\")\n",
    "print(\"--------------------------------------------------\")\n",
    "print(\"The accuracy score:\",acc_knn)\n",
    "print(\"--------------------------------------------------\")\n",
    "print(\"The Classification Report:\\n\", clf_knn)\n",
    "print(\"--------------------------------------------------\")\n",
    "print(\"The Confusion Matrix:\\n\",conf_knn)\n",
    "print(\"--------------------------------------------------\")\n",
    "print(\"The Precision Score:\\n\",prc_knn)"
   ]
  },
  {
   "cell_type": "code",
   "execution_count": 107,
   "id": "e2fb6a35",
   "metadata": {},
   "outputs": [
    {
     "data": {
      "image/png": "[encoded data removed]",
      "text/plain": [
       "<Figure size 640x480 with 2 Axes>"
      ]
     },
     "metadata": {},
     "output_type": "display_data"
    }
   ],
   "source": [
    "sns.heatmap(conf_knn, annot=True, cmap='winter', linecolor='black', linewidths=0.2)\n",
    "plt.savefig('insurance_knn_cnf_matrix')"
   ]
  },
  {
   "cell_type": "markdown",
   "id": "7b0e9eb6",
   "metadata": {},
   "source": [
    "#### Inference: From the above report, Random Forest Classifier is giving accuracy score of about 87.7%"
   ]
  },
  {
   "cell_type": "markdown",
   "id": "97206911",
   "metadata": {},
   "source": [
    "### Accuracy Scores of all models"
   ]
  },
  {
   "cell_type": "code",
   "execution_count": 108,
   "id": "bcd204a7",
   "metadata": {},
   "outputs": [
    {
     "name": "stdout",
     "output_type": "stream",
     "text": [
      "DecisionTreeClassifier Accuracy =  0.8248012384875758\n",
      "RandomForestClassifier Accuracy =  0.8666395528849938\n",
      "KNeighborsClassifier Accuracy =  0.87553462254992\n"
     ]
    }
   ],
   "source": [
    "print(\"DecisionTreeClassifier Accuracy = \",accuracy_score(y_test, pred1))\n",
    "print(\"RandomForestClassifier Accuracy = \",accuracy_score(y_test,pred2))\n",
    "print(\"KNeighborsClassifier Accuracy = \",accuracy_score(y_test,pred3))\n"
   ]
  },
  {
   "cell_type": "markdown",
   "id": "7eea4eed",
   "metadata": {},
   "source": [
    "### Conclusion"
   ]
  },
  {
   "cell_type": "markdown",
   "id": "a06eaebc",
   "metadata": {},
   "source": [
    "#### KNN Model is showing the best accuracy score here. We will use the KNN model for our \"test\" dataframe."
   ]
  },
  {
   "cell_type": "code",
   "execution_count": 79,
   "id": "9393b33c",
   "metadata": {},
   "outputs": [
    {
     "data": {
      "text/html": [
       "<div>\n",
       "<style scoped>\n",
       "    .dataframe tbody tr th:only-of-type {\n",
       "        vertical-align: middle;\n",
       "    }\n",
       "\n",
       "    .dataframe tbody tr th {\n",
       "        vertical-align: top;\n",
       "    }\n",
       "\n",
       "    .dataframe thead th {\n",
       "        text-align: right;\n",
       "    }\n",
       "</style>\n",
       "<table border=\"1\" class=\"dataframe\">\n",
       "  <thead>\n",
       "    <tr style=\"text-align: right;\">\n",
       "      <th></th>\n",
       "      <th>id</th>\n",
       "      <th>Gender</th>\n",
       "      <th>Age</th>\n",
       "      <th>Driving_License</th>\n",
       "      <th>Region_Code</th>\n",
       "      <th>Previously_Insured</th>\n",
       "      <th>Vehicle_Age</th>\n",
       "      <th>Vehicle_Damage</th>\n",
       "      <th>Annual_Premium</th>\n",
       "      <th>Policy_Sales_Channel</th>\n",
       "      <th>Vintage</th>\n",
       "    </tr>\n",
       "  </thead>\n",
       "  <tbody>\n",
       "    <tr>\n",
       "      <th>0</th>\n",
       "      <td>381110</td>\n",
       "      <td>1</td>\n",
       "      <td>25</td>\n",
       "      <td>1</td>\n",
       "      <td>11.0</td>\n",
       "      <td>1</td>\n",
       "      <td>0</td>\n",
       "      <td>0</td>\n",
       "      <td>35786.0</td>\n",
       "      <td>152.0</td>\n",
       "      <td>53</td>\n",
       "    </tr>\n",
       "    <tr>\n",
       "      <th>1</th>\n",
       "      <td>381111</td>\n",
       "      <td>1</td>\n",
       "      <td>40</td>\n",
       "      <td>1</td>\n",
       "      <td>28.0</td>\n",
       "      <td>0</td>\n",
       "      <td>1</td>\n",
       "      <td>1</td>\n",
       "      <td>33762.0</td>\n",
       "      <td>7.0</td>\n",
       "      <td>111</td>\n",
       "    </tr>\n",
       "    <tr>\n",
       "      <th>2</th>\n",
       "      <td>381112</td>\n",
       "      <td>1</td>\n",
       "      <td>47</td>\n",
       "      <td>1</td>\n",
       "      <td>28.0</td>\n",
       "      <td>0</td>\n",
       "      <td>1</td>\n",
       "      <td>1</td>\n",
       "      <td>40050.0</td>\n",
       "      <td>124.0</td>\n",
       "      <td>199</td>\n",
       "    </tr>\n",
       "    <tr>\n",
       "      <th>3</th>\n",
       "      <td>381113</td>\n",
       "      <td>1</td>\n",
       "      <td>24</td>\n",
       "      <td>1</td>\n",
       "      <td>27.0</td>\n",
       "      <td>1</td>\n",
       "      <td>0</td>\n",
       "      <td>1</td>\n",
       "      <td>37356.0</td>\n",
       "      <td>152.0</td>\n",
       "      <td>187</td>\n",
       "    </tr>\n",
       "    <tr>\n",
       "      <th>4</th>\n",
       "      <td>381114</td>\n",
       "      <td>1</td>\n",
       "      <td>27</td>\n",
       "      <td>1</td>\n",
       "      <td>28.0</td>\n",
       "      <td>1</td>\n",
       "      <td>0</td>\n",
       "      <td>0</td>\n",
       "      <td>59097.0</td>\n",
       "      <td>152.0</td>\n",
       "      <td>297</td>\n",
       "    </tr>\n",
       "  </tbody>\n",
       "</table>\n",
       "</div>"
      ],
      "text/plain": [
       "       id  Gender  Age  Driving_License  Region_Code  Previously_Insured  \\\n",
       "0  381110       1   25                1         11.0                   1   \n",
       "1  381111       1   40                1         28.0                   0   \n",
       "2  381112       1   47                1         28.0                   0   \n",
       "3  381113       1   24                1         27.0                   1   \n",
       "4  381114       1   27                1         28.0                   1   \n",
       "\n",
       "   Vehicle_Age  Vehicle_Damage  Annual_Premium  Policy_Sales_Channel  Vintage  \n",
       "0            0               0         35786.0                 152.0       53  \n",
       "1            1               1         33762.0                   7.0      111  \n",
       "2            1               1         40050.0                 124.0      199  \n",
       "3            0               1         37356.0                 152.0      187  \n",
       "4            0               0         59097.0                 152.0      297  "
      ]
     },
     "execution_count": 79,
     "metadata": {},
     "output_type": "execute_result"
    }
   ],
   "source": [
    "test.head()"
   ]
  },
  {
   "cell_type": "code",
   "execution_count": 113,
   "id": "e78240cb",
   "metadata": {},
   "outputs": [
    {
     "data": {
      "text/plain": [
       "(127037, 11)"
      ]
     },
     "execution_count": 113,
     "metadata": {},
     "output_type": "execute_result"
    }
   ],
   "source": [
    "test.shape"
   ]
  },
  {
   "cell_type": "code",
   "execution_count": 109,
   "id": "218a7f97",
   "metadata": {},
   "outputs": [],
   "source": [
    "Responses = model_knn.predict(test[test.columns[1:]]) # We have to exclude the id column as we also excluded in \"train\" dataframe when defining features"
   ]
  },
  {
   "cell_type": "code",
   "execution_count": 110,
   "id": "879449f0",
   "metadata": {},
   "outputs": [
    {
     "data": {
      "text/plain": [
       "array([0, 0, 0, ..., 0, 0, 0], dtype=int64)"
      ]
     },
     "execution_count": 110,
     "metadata": {},
     "output_type": "execute_result"
    }
   ],
   "source": [
    "Responses"
   ]
  },
  {
   "cell_type": "code",
   "execution_count": 112,
   "id": "a8ad8625",
   "metadata": {},
   "outputs": [
    {
     "data": {
      "text/plain": [
       "127037"
      ]
     },
     "execution_count": 112,
     "metadata": {},
     "output_type": "execute_result"
    }
   ],
   "source": [
    "len(Responses)"
   ]
  },
  {
   "cell_type": "markdown",
   "id": "c9ee9461",
   "metadata": {},
   "source": [
    "#### Making a DataFrame  by the name Submission"
   ]
  },
  {
   "cell_type": "code",
   "execution_count": 111,
   "id": "f5277b49",
   "metadata": {},
   "outputs": [
    {
     "data": {
      "text/html": [
       "<div>\n",
       "<style scoped>\n",
       "    .dataframe tbody tr th:only-of-type {\n",
       "        vertical-align: middle;\n",
       "    }\n",
       "\n",
       "    .dataframe tbody tr th {\n",
       "        vertical-align: top;\n",
       "    }\n",
       "\n",
       "    .dataframe thead th {\n",
       "        text-align: right;\n",
       "    }\n",
       "</style>\n",
       "<table border=\"1\" class=\"dataframe\">\n",
       "  <thead>\n",
       "    <tr style=\"text-align: right;\">\n",
       "      <th></th>\n",
       "      <th>id</th>\n",
       "      <th>Response</th>\n",
       "    </tr>\n",
       "  </thead>\n",
       "  <tbody>\n",
       "    <tr>\n",
       "      <th>0</th>\n",
       "      <td>381110</td>\n",
       "      <td>0</td>\n",
       "    </tr>\n",
       "    <tr>\n",
       "      <th>1</th>\n",
       "      <td>381111</td>\n",
       "      <td>0</td>\n",
       "    </tr>\n",
       "    <tr>\n",
       "      <th>2</th>\n",
       "      <td>381112</td>\n",
       "      <td>0</td>\n",
       "    </tr>\n",
       "    <tr>\n",
       "      <th>3</th>\n",
       "      <td>381113</td>\n",
       "      <td>0</td>\n",
       "    </tr>\n",
       "    <tr>\n",
       "      <th>4</th>\n",
       "      <td>381114</td>\n",
       "      <td>0</td>\n",
       "    </tr>\n",
       "  </tbody>\n",
       "</table>\n",
       "</div>"
      ],
      "text/plain": [
       "       id  Response\n",
       "0  381110         0\n",
       "1  381111         0\n",
       "2  381112         0\n",
       "3  381113         0\n",
       "4  381114         0"
      ]
     },
     "execution_count": 111,
     "metadata": {},
     "output_type": "execute_result"
    }
   ],
   "source": [
    "submission = pd.DataFrame(data = {'id': test['id'], 'Response': Responses})\n",
    "submission.to_csv('submission.csv', index = False)\n",
    "submission.head()"
   ]
  },
  {
   "cell_type": "code",
   "execution_count": null,
   "id": "bd5381dc",
   "metadata": {},
   "outputs": [],
   "source": []
  }
 ],
 "metadata": {
  "kernelspec": {
   "display_name": "Python 3 (ipykernel)",
   "language": "python",
   "name": "python3"
  },
  "language_info": {
   "codemirror_mode": {
    "name": "ipython",
    "version": 3
   },
   "file_extension": ".py",
   "mimetype": "text/x-python",
   "name": "python",
   "nbconvert_exporter": "python",
   "pygments_lexer": "ipython3",
   "version": "3.11.5"
  }
 },
 "nbformat": 4,
 "nbformat_minor": 5
}
